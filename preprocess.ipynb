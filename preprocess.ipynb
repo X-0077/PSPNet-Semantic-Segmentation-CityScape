{
 "cells": [
  {
   "cell_type": "code",
   "execution_count": 1,
   "id": "5152afbb",
   "metadata": {},
   "outputs": [],
   "source": [
    "import torch\n",
    "import torch.nn as nn\n",
    "import torch.nn.functional as F\n",
    "import torch.optim as optim\n",
    "import torchvision\n",
    "import torchvision.transforms as transforms\n",
    "from torch.utils.data import Dataset, DataLoader\n",
    "import cv2\n",
    "\n",
    "import time\n",
    "from collections import namedtuple\n",
    "import matplotlib.pyplot as plt\n",
    "import numpy as np\n",
    "from IPython.display import clear_output"
   ]
  },
  {
   "cell_type": "code",
   "execution_count": 2,
   "id": "8260e329",
   "metadata": {},
   "outputs": [],
   "source": [
    "Label = namedtuple( 'Label' , [\n",
    "\n",
    "    'name'        , # The identifier of this label, e.g. 'car', 'person', ... .\n",
    "                    # We use them to uniquely name a class\n",
    "\n",
    "    'id'          , # An integer ID that is associated with this label.\n",
    "                    # The IDs are used to represent the label in ground truth images\n",
    "                    # An ID of -1 means that this label does not have an ID and thus\n",
    "                    # is ignored when creating ground truth images (e.g. license plate).\n",
    "                    # Do not modify these IDs, since exactly these IDs are expected by the\n",
    "                    # evaluation server.\n",
    "\n",
    "    'trainId'     , # Feel free to modify these IDs as suitable for your method. Then create\n",
    "                    # ground truth images with train IDs, using the tools provided in the\n",
    "                    # 'preparation' folder. However, make sure to validate or submit results\n",
    "                    # to our evaluation server using the regular IDs above!\n",
    "                    # For trainIds, multiple labels might have the same ID. Then, these labels\n",
    "                    # are mapped to the same class in the ground truth images. For the inverse\n",
    "                    # mapping, we use the label that is defined first in the list below.\n",
    "                    # For example, mapping all void-type classes to the same ID in training,\n",
    "                    # might make sense for some approaches.\n",
    "                    # Max value is 255!\n",
    "\n",
    "    'category'    , # The name of the category that this label belongs to\n",
    "\n",
    "    'categoryId'  , # The ID of this category. Used to create ground truth images\n",
    "                    # on category level.\n",
    "\n",
    "    'hasInstances', # Whether this label distinguishes between single instances or not\n",
    "\n",
    "    'ignoreInEval', # Whether pixels having this class as ground truth label are ignored\n",
    "                    # during evaluations or not\n",
    "\n",
    "    'color'       , # The color of this label\n",
    "    ] )\n",
    "\n",
    "\n",
    "#--------------------------------------------------------------------------------\n",
    "# A list of all labels\n",
    "#--------------------------------------------------------------------------------\n",
    "\n",
    "# Please adapt the train IDs as appropriate for your approach.\n",
    "# Note that you might want to ignore labels with ID 255 during training.\n",
    "# Further note that the current train IDs are only a suggestion. You can use whatever you like.\n",
    "# Make sure to provide your results using the original IDs and not the training IDs.\n",
    "# Note that many IDs are ignored in evaluation and thus you never need to predict these!\n",
    "\n",
    "labels = [\n",
    "    #       name                     id    trainId   category            catId     hasInstances   ignoreInEval   color\n",
    "    Label(  'unlabeled'            ,  0 ,      255 , 'void'            , 0       , False        , True         , (  0,  0,  0) ),\n",
    "    Label(  'ego vehicle'          ,  1 ,      255 , 'void'            , 0       , False        , True         , (  0,  0,  0) ),\n",
    "    Label(  'rectification border' ,  2 ,      255 , 'void'            , 0       , False        , True         , (  0,  0,  0) ),\n",
    "    Label(  'out of roi'           ,  3 ,      255 , 'void'            , 0       , False        , True         , (  0,  0,  0) ),\n",
    "    Label(  'static'               ,  4 ,      255 , 'void'            , 0       , False        , True         , (  0,  0,  0) ),\n",
    "    Label(  'dynamic'              ,  5 ,      255 , 'void'            , 0       , False        , True         , (111, 74,  0) ),\n",
    "    Label(  'ground'               ,  6 ,      255 , 'void'            , 0       , False        , True         , ( 81,  0, 81) ),\n",
    "    Label(  'road'                 ,  7 ,        0 , 'flat'            , 1       , False        , False        , (128, 64,128) ),\n",
    "    Label(  'sidewalk'             ,  8 ,        1 , 'flat'            , 1       , False        , False        , (244, 35,232) ),\n",
    "    Label(  'parking'              ,  9 ,      255 , 'flat'            , 1       , False        , True         , (250,170,160) ),\n",
    "    Label(  'rail track'           , 10 ,      255 , 'flat'            , 1       , False        , True         , (230,150,140) ),\n",
    "    Label(  'building'             , 11 ,        2 , 'construction'    , 2       , False        , False        , ( 70, 70, 70) ),\n",
    "    Label(  'wall'                 , 12 ,        3 , 'construction'    , 2       , False        , False        , (102,102,156) ),\n",
    "    Label(  'fence'                , 13 ,        4 , 'construction'    , 2       , False        , False        , (190,153,153) ),\n",
    "    Label(  'guard rail'           , 14 ,      255 , 'construction'    , 2       , False        , True         , (180,165,180) ),\n",
    "    Label(  'bridge'               , 15 ,      255 , 'construction'    , 2       , False        , True         , (150,100,100) ),\n",
    "    Label(  'tunnel'               , 16 ,      255 , 'construction'    , 2       , False        , True         , (150,120, 90) ),\n",
    "    Label(  'pole'                 , 17 ,        5 , 'object'          , 3       , False        , False        , (153,153,153) ),\n",
    "    Label(  'polegroup'            , 18 ,      255 , 'object'          , 3       , False        , True         , (153,153,153) ),\n",
    "    Label(  'traffic light'        , 19 ,        6 , 'object'          , 3       , False        , False        , (250,170, 30) ),\n",
    "    Label(  'traffic sign'         , 20 ,        7 , 'object'          , 3       , False        , False        , (220,220,  0) ),\n",
    "    Label(  'vegetation'           , 21 ,        8 , 'nature'          , 4       , False        , False        , (107,142, 35) ),\n",
    "    Label(  'terrain'              , 22 ,        9 , 'nature'          , 4       , False        , False        , (152,251,152) ),\n",
    "    Label(  'sky'                  , 23 ,       10 , 'sky'             , 5       , False        , False        , ( 70,130,180) ),\n",
    "    Label(  'person'               , 24 ,       11 , 'human'           , 6       , True         , False        , (220, 20, 60) ),\n",
    "    Label(  'rider'                , 25 ,       12 , 'human'           , 6       , True         , False        , (255,  0,  0) ),\n",
    "    Label(  'car'                  , 26 ,       13 , 'vehicle'         , 7       , True         , False        , (  0,  0,142) ),\n",
    "    Label(  'truck'                , 27 ,       14 , 'vehicle'         , 7       , True         , False        , (  0,  0, 70) ),\n",
    "    Label(  'bus'                  , 28 ,       15 , 'vehicle'         , 7       , True         , False        , (  0, 60,100) ),\n",
    "    Label(  'caravan'              , 29 ,      255 , 'vehicle'         , 7       , True         , True         , (  0,  0, 90) ),\n",
    "    Label(  'trailer'              , 30 ,      255 , 'vehicle'         , 7       , True         , True         , (  0,  0,110) ),\n",
    "    Label(  'train'                , 31 ,       16 , 'vehicle'         , 7       , True         , False        , (  0, 80,100) ),\n",
    "    Label(  'motorcycle'           , 32 ,       17 , 'vehicle'         , 7       , True         , False        , (  0,  0,230) ),\n",
    "    Label(  'bicycle'              , 33 ,       18 , 'vehicle'         , 7       , True         , False        , (119, 11, 32) ),\n",
    "    Label(  'license plate'        , -1 ,       -1 , 'vehicle'         , 7       , False        , True         , (  0,  0,142) ),\n",
    "]"
   ]
  },
  {
   "cell_type": "code",
   "execution_count": 3,
   "id": "7cc261d5",
   "metadata": {},
   "outputs": [],
   "source": [
    "name2label      = { label.name    : label for label in labels           }\n",
    "# id to label object\n",
    "id2label        = { label.id      : label for label in labels           }\n",
    "# trainId to label object\n",
    "trainId2label   = { label.trainId : label for label in reversed(labels) }"
   ]
  },
  {
   "cell_type": "code",
   "execution_count": 4,
   "id": "1cdef678",
   "metadata": {},
   "outputs": [],
   "source": [
    "dataset_root = './Data/cityscapes'"
   ]
  },
  {
   "cell_type": "code",
   "execution_count": 5,
   "id": "429495a7",
   "metadata": {},
   "outputs": [],
   "source": [
    "# Define transformation, \n",
    "# ToTensor : Convert PIL image to Pytorch tensor\n",
    "# Resize   : Resize image to from (1024, 2048) to (128, 256)\n",
    "# Resize   : Use nearest-neighbour interpolation to keep the same values from original image \n",
    "\n",
    "transform = transforms.Compose([\n",
    "            transforms.ToTensor(),\n",
    "            transforms.Resize(size=(128, 256), interpolation=transforms.InterpolationMode.NEAREST)\n",
    "            ])"
   ]
  },
  {
   "cell_type": "code",
   "execution_count": 6,
   "id": "867de9fd",
   "metadata": {},
   "outputs": [],
   "source": [
    "# Define dataset\n",
    "train_data = torchvision.datasets.Cityscapes(root=dataset_root, split=\"train\", mode=\"fine\", target_type=\"semantic\", transform=transform, target_transform=transform)\n",
    "valid_data = torchvision.datasets.Cityscapes(root=dataset_root, split=\"val\", mode=\"fine\", target_type=\"semantic\", transform=transform, target_transform=transform)\n",
    "\n",
    "# Only use 1000 training example to reduce training time \n",
    "train_data, _ = torch.utils.data.random_split(train_data, [1000, 1975], generator=torch.Generator().manual_seed(10))\n",
    "\n",
    "# Split valid_data into valid_data and test_data because the cityscapes test dataset has problems\n",
    "split = 0.5\n",
    "n_valid_examples = int(len(valid_data)*split)\n",
    "n_test_examples = len(valid_data) - n_valid_examples\n",
    "\n",
    "valid_data, test_data = torch.utils.data.random_split(valid_data, [n_valid_examples, n_test_examples], generator=torch.Generator().manual_seed(10))"
   ]
  },
  {
   "cell_type": "code",
   "execution_count": 7,
   "id": "07405fb2",
   "metadata": {
    "scrolled": true
   },
   "outputs": [
    {
     "name": "stdout",
     "output_type": "stream",
     "text": [
      "Number of training examples: 1000\n",
      "Number of validation examples: 250\n",
      "Number of testing examples: 250\n"
     ]
    }
   ],
   "source": [
    "# Check length of all datasets\n",
    "print(f'Number of training examples: {len(train_data)}')\n",
    "print(f'Number of validation examples: {len(valid_data)}')\n",
    "print(f'Number of testing examples: {len(test_data)}')"
   ]
  },
  {
   "cell_type": "code",
   "execution_count": 8,
   "id": "77a27367",
   "metadata": {},
   "outputs": [],
   "source": [
    "# Define dataloader\n",
    "batch_size = 50\n",
    "train_loader = DataLoader(train_data, shuffle=True, batch_size=batch_size)\n",
    "valid_loader = DataLoader(valid_data, batch_size=batch_size)\n",
    "test_loader  = DataLoader(test_data, batch_size=batch_size)"
   ]
  },
  {
   "cell_type": "code",
   "execution_count": 13,
   "id": "3cf87566",
   "metadata": {},
   "outputs": [],
   "source": [
    "# Change id to trainId for all labels\n",
    "def changeLabel(dataset, loader, batch_size):\n",
    "    storeData = np.zeros((len(dataset), 3, 128, 256))\n",
    "    storeLabel = np.zeros((len(dataset), 128, 256))\n",
    "    \n",
    "    for batch_id, (data, label) in enumerate(loader):\n",
    "        storeData[batch_id*batch_size:(batch_id+1)*batch_size] = data\n",
    "    \n",
    "        # Loop every image in a batch\n",
    "        for i in range(batch_size):\n",
    "            target = label[i].squeeze()\n",
    "            size = target.numpy().shape\n",
    "            target = target.reshape(target.numel()).numpy()\n",
    "            target = (target*255).astype('int')\n",
    "            target = np.where(target == 7, target*0, target)\n",
    "            target = np.where(target == 8, target*0+1, target)\n",
    "            target = np.where(target == 11, target*0+2, target)\n",
    "            target = np.where(target == 12, target*0+3, target)\n",
    "            target = np.where(target == 13, target*0+4, target)\n",
    "            target = np.where(target == 17, target*0+5, target)\n",
    "            target = np.where(target == 19, target*0+6, target)\n",
    "            target = np.where(target == 20, target*0+7, target)\n",
    "            target = np.where(target == 21, target*0+8, target)\n",
    "            target = np.where(target == 22, target*0+9, target)\n",
    "            target = np.where(target == 23, target*0+10, target)\n",
    "            target = np.where(target == 24, target*0+11, target)\n",
    "            target = np.where(target == 25, target*0+12, target)\n",
    "            target = np.where(target == 26, target*0+13, target)\n",
    "            target = np.where(target == 27, target*0+14, target)\n",
    "            target = np.where(target == 28, target*0+15, target)\n",
    "            target = np.where(target == 31, target*0+16, target)\n",
    "            target = np.where(target == 32, target*0+17, target)\n",
    "            target = np.where(target == 33, target*0+18, target)\n",
    "            target = np.where(target > 18, target*0+19, target)\n",
    "            target = target.reshape(size)\n",
    "            storeLabel[i+(batch_id*batch_size)] = target\n",
    "    \n",
    "    return (storeData, storeLabel)"
   ]
  },
  {
   "cell_type": "code",
   "execution_count": 14,
   "id": "24c4cdcb",
   "metadata": {},
   "outputs": [],
   "source": [
    "trainData, trainLabel = changeLabel(dataset=train_data, loader=train_loader, batch_size=batch_size)\n",
    "validData, validLabel = changeLabel(dataset=valid_data, loader=valid_loader, batch_size=50)\n",
    "testData, testLabel = changeLabel(dataset=test_data, loader=test_loader, batch_size=batch_size)"
   ]
  },
  {
   "cell_type": "code",
   "execution_count": 15,
   "id": "9aba2437",
   "metadata": {},
   "outputs": [],
   "source": [
    "np.savez_compressed('cityScapes.npz', trainData, trainLabel, validData, validLabel, testData, testLabel)"
   ]
  }
 ],
 "metadata": {
  "kernelspec": {
   "display_name": "Python 3 (ipykernel)",
   "language": "python",
   "name": "python3"
  },
  "language_info": {
   "codemirror_mode": {
    "name": "ipython",
    "version": 3
   },
   "file_extension": ".py",
   "mimetype": "text/x-python",
   "name": "python",
   "nbconvert_exporter": "python",
   "pygments_lexer": "ipython3",
   "version": "3.9.7"
  }
 },
 "nbformat": 4,
 "nbformat_minor": 5
}
